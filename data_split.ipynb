{
  "nbformat": 4,
  "nbformat_minor": 0,
  "metadata": {
    "colab": {
      "provenance": []
    },
    "kernelspec": {
      "name": "python3",
      "display_name": "Python 3"
    },
    "language_info": {
      "name": "python"
    }
  },
  "cells": [
    {
      "cell_type": "code",
      "source": [
        "from google.colab import drive\n",
        "drive.mount('/content/drive')"
      ],
      "metadata": {
        "colab": {
          "base_uri": "https://localhost:8080/"
        },
        "id": "I_OFhnvMkxOg",
        "outputId": "eed455f0-92e4-4716-ae6c-f295baa94f7b"
      },
      "execution_count": null,
      "outputs": [
        {
          "output_type": "stream",
          "name": "stdout",
          "text": [
            "Mounted at /content/drive\n"
          ]
        }
      ]
    },
    {
      "cell_type": "code",
      "execution_count": null,
      "metadata": {
        "id": "lNZ8wtDtkoX_"
      },
      "outputs": [],
      "source": [
        "import os\n",
        "import shutil\n",
        "from sklearn.model_selection import train_test_split\n",
        "\n",
        "# define directories\n",
        "base_dir = '/content/drive/MyDrive/dataset/'\n",
        "clean_dir = os.path.join(base_dir, 'train/gt')\n",
        "rain_dir = os.path.join(base_dir, 'train/data')\n"
      ]
    },
    {
      "cell_type": "code",
      "source": [
        "# get lists of images\n",
        "clean_images = sorted(os.listdir(clean_dir))  # assuming filenames are the same\n",
        "rain_images = sorted(os.listdir(rain_dir))    # assuming filenames are the same\n"
      ],
      "metadata": {
        "id": "JCNe2fT2r_o8"
      },
      "execution_count": null,
      "outputs": []
    },
    {
      "cell_type": "code",
      "source": [
        "# split into train and test sets\n",
        "train_clean, val_clean, train_rain, val_rain = train_test_split(clean_images, rain_images, test_size=0.1, random_state=101)\n"
      ],
      "metadata": {
        "id": "trli3s-_sGBA"
      },
      "execution_count": null,
      "outputs": []
    },
    {
      "cell_type": "code",
      "source": [
        "# Define directories for train/val split\n",
        "dirs = {\n",
        "    \"train_data\": os.path.join(base_dir, \"new_train/data\"),\n",
        "    \"train_gt\": os.path.join(base_dir, \"new_train/gt\"),\n",
        "    \"val_data\": os.path.join(base_dir, \"val/data\"),\n",
        "    \"val_gt\": os.path.join(base_dir, \"val/gt\"),\n",
        "}\n",
        "\n",
        "# Create directories if they do not exist\n",
        "for dir_path in dirs.values():\n",
        "    os.makedirs(dir_path, exist_ok=True)\n",
        "\n"
      ],
      "metadata": {
        "id": "Z_wgEJoYsJDU"
      },
      "execution_count": null,
      "outputs": []
    },
    {
      "cell_type": "code",
      "source": [
        "# function to copy and rename files\n",
        "def copy_and_rename_files(file_list, old_dir, new_dir, new_name):\n",
        "    for i, file_name in enumerate(file_list):\n",
        "        old_path = os.path.join(old_dir, file_name)\n",
        "        new_path = os.path.join(new_dir, f'{i}_{new_name}.png')  # assuming the images are in .png format\n",
        "        shutil.copy(old_path, new_path)\n",
        "    print(f'{len(file_list)} {new_name} images have been copied and renamed in {new_dir}.')\n",
        "\n",
        "# copy and rename files\n",
        "copy_and_rename_files(train_clean, clean_dir, dirs['train_gt'], 'clean')\n",
        "copy_and_rename_files(train_rain, rain_dir, dirs['train_data'], 'rain')\n",
        "copy_and_rename_files(val_clean, clean_dir, dirs['val_gt'], 'clean')\n",
        "copy_and_rename_files(val_rain, rain_dir, dirs['val_data'], 'rain')\n",
        "\n",
        "print('Train/Test Split and File Organization Completed.')"
      ],
      "metadata": {
        "colab": {
          "base_uri": "https://localhost:8080/"
        },
        "id": "EmvwaPcMsK--",
        "outputId": "e120f5aa-d847-488f-b73e-894b706404a7"
      },
      "execution_count": null,
      "outputs": [
        {
          "output_type": "stream",
          "name": "stdout",
          "text": [
            "3466 clean images have been copied and renamed in /content/drive/MyDrive/dataset/new_train/gt.\n",
            "3466 rain images have been copied and renamed in /content/drive/MyDrive/dataset/new_train/data.\n",
            "386 clean images have been copied and renamed in /content/drive/MyDrive/dataset/val/gt.\n",
            "386 rain images have been copied and renamed in /content/drive/MyDrive/dataset/val/data.\n",
            "Train/Test Split and File Organization Completed.\n"
          ]
        }
      ]
    }
  ]
}