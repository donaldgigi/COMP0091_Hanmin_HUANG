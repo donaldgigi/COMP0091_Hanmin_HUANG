{
  "cells": [
    {
      "cell_type": "markdown",
      "metadata": {
        "id": "85AFcWJ2Fn4d"
      },
      "source": [
        "# Preparation"
      ]
    },
    {
      "cell_type": "code",
      "execution_count": null,
      "metadata": {
        "colab": {
          "base_uri": "https://localhost:8080/"
        },
        "id": "at2YDPe8J2pq",
        "outputId": "496010c5-0237-4623-d04d-5f5485dbfa53"
      },
      "outputs": [
        {
          "name": "stdout",
          "output_type": "stream",
          "text": [
            "Mounted at /content/drive/\n"
          ]
        }
      ],
      "source": [
        "# Loading data from Google Drive\n",
        "from google.colab import drive\n",
        "drive.mount('/content/drive/')"
      ]
    },
    {
      "cell_type": "code",
      "execution_count": null,
      "metadata": {
        "id": "InHxxDC6LrwZ"
      },
      "outputs": [],
      "source": [
        "#PyTorch lib\n",
        "import torch\n",
        "import torch.nn as nn\n",
        "from torch.autograd import Variable\n",
        "import torch.utils.data as Data\n",
        "import torch.nn.functional as F\n",
        "import torchvision\n",
        "#Tools lib\n",
        "import numpy as np\n",
        "import cv2\n",
        "import random\n",
        "import time\n",
        "import os\n",
        "import argparse\n",
        "from matplotlib import pyplot as plt\n",
        "from skimage.metrics import peak_signal_noise_ratio as psnr\n",
        "from skimage.metrics import structural_similarity as ssim\n",
        "import sys\n",
        "\n",
        "root_path = '/content/drive/MyDrive/DeRaindrop-master/'\n",
        "model_path = '/content/drive/MyDrive/DeRaindrop-master/models'\n",
        "weights_path = '/content/drive/MyDrive/DeRaindrop-master/weights/gen.pkl' # trained by Qian et al.\n",
        "#weights_path = \"/content/drive/MyDrive/Qian/weights/finetuned_model_0815.pt\" # my model\n",
        "\n",
        "sys.path.append(root_path)\n",
        "sys.path.append(model_path)\n",
        "\n",
        "from models import *\n",
        "#from metrics import *\n",
        "from predict import align_to_four\n",
        "\n",
        "def predict(image):\n",
        "    image = np.array(image, dtype='float32')/255.\n",
        "    image = image.transpose((2, 0, 1))\n",
        "    image = image[np.newaxis, :, :, :]\n",
        "    image = torch.from_numpy(image)\n",
        "    image = Variable(image).cuda()\n",
        "\n",
        "    out = model(image)[-1]\n",
        "\n",
        "    out = out.cpu().data\n",
        "    out = out.numpy()\n",
        "    out = out.transpose((0, 2, 3, 1))\n",
        "    out = out[0, :, :, :]*255.\n",
        "\n",
        "    return out\n",
        "\n",
        "\n",
        "def run(mode, input_dir, output_dir='', gt_dir='', output_flag=False):\n",
        "\n",
        "    if mode == 'demo':\n",
        "        input_list = sorted(os.listdir(input_dir))\n",
        "        num = len(input_list)\n",
        "        for i in range(num):\n",
        "            print ('Processing image: %s'%(input_list[i]))\n",
        "            img = cv2.imread(input_dir + input_list[i])\n",
        "\n",
        "            #img_rgb = cv2.cvtColor(img, cv2.COLOR_BGR2RGB)\n",
        "            #plt.imshow(img_rgb)\n",
        "            #plt.show()\n",
        "\n",
        "            img = align_to_four(img)\n",
        "            result = predict(img)\n",
        "            #print(img.shape, result.shape)\n",
        "            img_name = input_list[i].split('.')[0]\n",
        "            cv2.imwrite(output_dir + img_name + '.jpg', result)\n",
        "            #result_rgb = cv2.cvtColor(result, cv2.COLOR_BGR2RGB)\n",
        "            #plt.imshow(result_rgb)\n",
        "            #plt.show()\n",
        "\n",
        "    elif mode == 'test':\n",
        "        input_list = os.listdir(input_dir)\n",
        "        num = len(input_list)\n",
        "        cumulative_psnr = 0\n",
        "        cumulative_ssim = 0\n",
        "\n",
        "        for i in range(num):\n",
        "            input_file_name = input_list[i]\n",
        "            if 'rain' in input_list[i]:\n",
        "                gt_file_name = input_file_name.replace('rain', 'clean')\n",
        "            elif 'right' in input_list[i]:\n",
        "                gt_file_name = input_file_name.replace('right', 'left')\n",
        "            else:\n",
        "                print(\"ERROR\")\n",
        "\n",
        "            input = cv2.imread(input_dir + input_file_name)\n",
        "            gt = cv2.imread(gt_dir + gt_file_name)\n",
        "            input = align_to_four(input)\n",
        "            gt = align_to_four(gt)\n",
        "            result = predict(input)\n",
        "            if output_flag:\n",
        "                img_name = input_list[i].split('.')[0]\n",
        "                cv2.imwrite(output_dir + img_name + '.jpg', result)\n",
        "            result = np.array(result, dtype = 'uint8')\n",
        "            cur_psnr = psnr(gt, result)\n",
        "            im1_y = cv2.cvtColor(gt, cv2.COLOR_BGR2YCR_CB)[:, :, 0]\n",
        "            im2_y = cv2.cvtColor(result, cv2.COLOR_BGR2YCR_CB)[:, :, 0]\n",
        "            cur_ssim = ssim(im1_y, im2_y)\n",
        "            cumulative_psnr += cur_psnr\n",
        "            cumulative_ssim += cur_ssim\n",
        "        print('In testing dataset, PSNR is %.4f and SSIM is %.4f'%(cumulative_psnr/num, cumulative_ssim/num))\n",
        "\n",
        "    elif mode == 'compare_without_predict':\n",
        "        # To see how much a image is blurred\n",
        "        input_list = os.listdir(input_dir)\n",
        "        num = len(input_list)\n",
        "        cumulative_psnr = 0\n",
        "        cumulative_ssim = 0\n",
        "\n",
        "        for i in range(num):\n",
        "            input_file_name = input_list[i]\n",
        "            if 'rain' in input_list[i]:\n",
        "                gt_file_name = input_file_name.replace('rain', 'clean')\n",
        "            elif 'right' in input_list[i]:\n",
        "                gt_file_name = input_file_name.replace('right', 'left')\n",
        "            else:\n",
        "                print(\"ERROR\")\n",
        "\n",
        "            input = cv2.imread(input_dir + input_file_name)\n",
        "            gt = cv2.imread(gt_dir + gt_file_name)\n",
        "            input = align_to_four(input)\n",
        "            gt = align_to_four(gt)\n",
        "            cur_psnr = psnr(gt, input)\n",
        "            im1_y = cv2.cvtColor(gt, cv2.COLOR_BGR2YCR_CB)[:, :, 0]\n",
        "            im2_y = cv2.cvtColor(input, cv2.COLOR_BGR2YCR_CB)[:, :, 0]\n",
        "            cur_ssim = ssim(im1_y, im2_y)\n",
        "            cumulative_psnr += cur_psnr\n",
        "            cumulative_ssim += cur_ssim\n",
        "        print('In testing dataset, PSNR is %.4f and SSIM is %.4f'%(cumulative_psnr/num, cumulative_ssim/num))\n",
        "\n",
        "    else:\n",
        "        print ('Mode Invalid!')"
      ]
    },
    {
      "cell_type": "markdown",
      "metadata": {
        "id": "q62_-P1PUY3g"
      },
      "source": [
        "# att+M"
      ]
    },
    {
      "cell_type": "code",
      "execution_count": null,
      "metadata": {
        "colab": {
          "base_uri": "https://localhost:8080/"
        },
        "id": "j3ZZtrrvUdiL",
        "outputId": "eb77543f-c7aa-45ae-dac0-318f37dfb113"
      },
      "outputs": [
        {
          "name": "stdout",
          "output_type": "stream",
          "text": [
            "In testing dataset, PSNR is 13.7260 and SSIM is 0.6381\n"
          ]
        }
      ],
      "source": [
        "test_input_dir = '/content/drive/MyDrive/dataset/test/data/'\n",
        "test_gt_dir = '/content/drive/MyDrive/dataset/test/gt/'\n",
        "test_output_dir = '/content/drive/MyDrive/Qian/att+M/output/'\n",
        "\n",
        "weights_path = \"/content/drive/MyDrive/Qian/att+M/weights/59.pt\"\n",
        "model = Generator().cuda()\n",
        "model.load_state_dict(torch.load(weights_path))\n",
        "run(mode='test', input_dir=test_input_dir,\n",
        "                    output_dir=test_output_dir,\n",
        "                    gt_dir=test_gt_dir,\n",
        "                    output_flag = True)"
      ]
    },
    {
      "cell_type": "code",
      "execution_count": null,
      "metadata": {
        "colab": {
          "base_uri": "https://localhost:8080/"
        },
        "id": "kN41h8RDqeIT",
        "outputId": "390c4920-c2fa-4b4b-d12e-abdb30ddfbdd"
      },
      "outputs": [
        {
          "name": "stdout",
          "output_type": "stream",
          "text": [
            "In testing dataset, PSNR is 14.4464 and SSIM is 0.6455\n"
          ]
        }
      ],
      "source": [
        "test_input_dir = '/content/drive/MyDrive/dataset/test/data/'\n",
        "test_gt_dir = '/content/drive/MyDrive/dataset/test/gt/'\n",
        "test_output_dir = '/content/drive/MyDrive/Qian/att+M/output/'\n",
        "\n",
        "weights_path = \"/content/drive/MyDrive/Qian/att+M/weights/30.pt\"\n",
        "model = Generator().cuda()\n",
        "model.load_state_dict(torch.load(weights_path))\n",
        "run(mode='test', input_dir=test_input_dir,\n",
        "                    output_dir=test_output_dir,\n",
        "                    gt_dir=test_gt_dir,\n",
        "                    output_flag = True)"
      ]
    },
    {
      "cell_type": "markdown",
      "metadata": {
        "id": "JrE-cFuMYMr9"
      },
      "source": [
        "# att + P"
      ]
    },
    {
      "cell_type": "code",
      "execution_count": null,
      "metadata": {
        "colab": {
          "base_uri": "https://localhost:8080/"
        },
        "id": "eKi5YariYOux",
        "outputId": "b40fbe74-409d-480c-97b6-8184efb8f11b"
      },
      "outputs": [
        {
          "name": "stdout",
          "output_type": "stream",
          "text": [
            "In testing dataset, PSNR is 16.7576 and SSIM is 0.6862\n"
          ]
        }
      ],
      "source": [
        "test_input_dir = '/content/drive/MyDrive/dataset/test/data/'\n",
        "test_gt_dir = '/content/drive/MyDrive/dataset/test/gt/'\n",
        "test_output_dir = '/content/drive/MyDrive/Qian/att+P/output/'\n",
        "\n",
        "weights_path = \"/content/drive/MyDrive/Qian/att+P/weights/59.pt\"\n",
        "model = Generator().cuda()\n",
        "model.load_state_dict(torch.load(weights_path))\n",
        "run(mode='test', input_dir=test_input_dir,\n",
        "                    output_dir=test_output_dir,\n",
        "                    gt_dir=test_gt_dir,\n",
        "                    output_flag = True)"
      ]
    },
    {
      "cell_type": "markdown",
      "metadata": {
        "id": "vE4RqlQxhm_v"
      },
      "source": [
        "# all Loss"
      ]
    },
    {
      "cell_type": "code",
      "execution_count": null,
      "metadata": {
        "colab": {
          "base_uri": "https://localhost:8080/"
        },
        "id": "tJTyRHhehl4G",
        "outputId": "6a6d21e0-ca6b-470b-bdd1-1b43b0752ada"
      },
      "outputs": [
        {
          "name": "stdout",
          "output_type": "stream",
          "text": [
            "In testing dataset, PSNR is 16.1567 and SSIM is 0.6808\n"
          ]
        }
      ],
      "source": [
        "test_input_dir = '/content/drive/MyDrive/dataset/test/data/'\n",
        "test_gt_dir = '/content/drive/MyDrive/dataset/test/gt/'\n",
        "test_output_dir = '/content/drive/MyDrive/Qian/all_loss/output/'\n",
        "\n",
        "weights_path = \"/content/drive/MyDrive/Qian/all_loss/all_loss.pt\"\n",
        "model = Generator().cuda()\n",
        "model.load_state_dict(torch.load(weights_path))\n",
        "run(mode='test', input_dir=test_input_dir,\n",
        "                    output_dir=test_output_dir,\n",
        "                    gt_dir=test_gt_dir,\n",
        "                    output_flag = False)"
      ]
    },
    {
      "cell_type": "markdown",
      "metadata": {
        "id": "_OELIPAJYZoS"
      },
      "source": [
        "## All loss 1"
      ]
    },
    {
      "cell_type": "code",
      "execution_count": null,
      "metadata": {
        "colab": {
          "base_uri": "https://localhost:8080/"
        },
        "id": "8OPKVQm9Yb3t",
        "outputId": "224a3aef-bcec-4db8-d7ba-08999a88ee06"
      },
      "outputs": [
        {
          "name": "stdout",
          "output_type": "stream",
          "text": [
            "In testing dataset, PSNR is 16.4368 and SSIM is 0.6847\n"
          ]
        }
      ],
      "source": [
        "test_input_dir = '/content/drive/MyDrive/dataset/test/data/'\n",
        "test_gt_dir = '/content/drive/MyDrive/dataset/test/gt/'\n",
        "test_output_dir = '/content/drive/MyDrive/Qian/all_loss_1/output/'\n",
        "\n",
        "weights_path = \"/content/drive/MyDrive/Qian/all_loss_1/weights/59.pt\"\n",
        "model = Generator().cuda()\n",
        "model.load_state_dict(torch.load(weights_path))\n",
        "run(mode='test', input_dir=test_input_dir,\n",
        "                    output_dir=test_output_dir,\n",
        "                    gt_dir=test_gt_dir,\n",
        "                    output_flag = True)"
      ]
    },
    {
      "cell_type": "markdown",
      "metadata": {
        "id": "PkXJdXg1nbKv"
      },
      "source": [
        "# L_P"
      ]
    },
    {
      "cell_type": "code",
      "execution_count": null,
      "metadata": {
        "colab": {
          "base_uri": "https://localhost:8080/"
        },
        "id": "tP3geQnrnc5l",
        "outputId": "112d6777-6483-4e65-d076-7f8208d22bd0"
      },
      "outputs": [
        {
          "name": "stdout",
          "output_type": "stream",
          "text": [
            "In testing dataset, PSNR is 16.7275 and SSIM is 0.6857\n"
          ]
        }
      ],
      "source": [
        "test_input_dir = '/content/drive/MyDrive/dataset/test/data/'\n",
        "test_gt_dir = '/content/drive/MyDrive/dataset/test/gt/'\n",
        "test_output_dir = '/content/drive/MyDrive/Qian/L_P/output/'\n",
        "\n",
        "weights_path = \"/content/drive/MyDrive/Qian/L_P/L_P.pt\"\n",
        "model = Generator().cuda()\n",
        "model.load_state_dict(torch.load(weights_path))\n",
        "run(mode='test', input_dir=test_input_dir,\n",
        "                    output_dir=test_output_dir,\n",
        "                    gt_dir=test_gt_dir,\n",
        "                    output_flag = False)"
      ]
    },
    {
      "cell_type": "markdown",
      "metadata": {
        "id": "lZrPeflUFfeI"
      },
      "source": [
        "# L_att"
      ]
    },
    {
      "cell_type": "code",
      "execution_count": null,
      "metadata": {
        "colab": {
          "base_uri": "https://localhost:8080/"
        },
        "id": "0niissukFgVT",
        "outputId": "c99efd7b-7560-4a16-a512-15b282f46f26"
      },
      "outputs": [
        {
          "name": "stdout",
          "output_type": "stream",
          "text": [
            "In testing dataset, PSNR is 16.1914 and SSIM is 0.6614\n"
          ]
        }
      ],
      "source": [
        "test_input_dir = '/content/drive/MyDrive/dataset/combined/test/data/'\n",
        "test_gt_dir = '/content/drive/MyDrive/dataset/combined/test/gt/'\n",
        "test_output_dir = '/content/drive/MyDrive/Qian/L_att/output/'\n",
        "\n",
        "weights_path = \"/content/drive/MyDrive/Qian/L_att/L_att.pt\"\n",
        "model = Generator().cuda()\n",
        "model.load_state_dict(torch.load(weights_path))\n",
        "run(mode='test', input_dir=test_input_dir,\n",
        "                    output_dir=test_output_dir,\n",
        "                    gt_dir=test_gt_dir,\n",
        "                    output_flag = True)"
      ]
    },
    {
      "cell_type": "markdown",
      "metadata": {
        "id": "-28kPzWUui-p"
      },
      "source": [
        "## L_att_1"
      ]
    },
    {
      "cell_type": "code",
      "execution_count": null,
      "metadata": {
        "colab": {
          "base_uri": "https://localhost:8080/"
        },
        "id": "MowazojNukV2",
        "outputId": "a9d7d75d-0666-43a6-ede3-c9f3a48aeb8e"
      },
      "outputs": [
        {
          "name": "stdout",
          "output_type": "stream",
          "text": [
            "In testing dataset, PSNR is 14.7172 and SSIM is 0.6283\n"
          ]
        }
      ],
      "source": [
        "test_input_dir = '/content/drive/MyDrive/dataset/test/data/'\n",
        "test_gt_dir = '/content/drive/MyDrive/dataset/test/gt/'\n",
        "test_output_dir = '/content/drive/MyDrive/Qian/L_att_1/output/'\n",
        "\n",
        "weights_path = \"/content/drive/MyDrive/Qian/L_att_1/weights/70.pt\"\n",
        "model = Generator().cuda()\n",
        "model.load_state_dict(torch.load(weights_path))\n",
        "run(mode='test', input_dir=test_input_dir,\n",
        "                    output_dir=test_output_dir,\n",
        "                    gt_dir=test_gt_dir,\n",
        "                    output_flag = True)"
      ]
    },
    {
      "cell_type": "markdown",
      "metadata": {
        "id": "SyZc8vc4FwZj"
      },
      "source": [
        "# L_M"
      ]
    },
    {
      "cell_type": "code",
      "execution_count": null,
      "metadata": {
        "colab": {
          "base_uri": "https://localhost:8080/"
        },
        "id": "cqhSSR38Fxg7",
        "outputId": "2b0b172b-4c64-4246-cbaf-8f9de52d0408"
      },
      "outputs": [
        {
          "name": "stdout",
          "output_type": "stream",
          "text": [
            "In testing dataset, PSNR is 13.2484 and SSIM is 0.6286\n"
          ]
        }
      ],
      "source": [
        "test_input_dir = '/content/drive/MyDrive/dataset/test/data/'\n",
        "test_gt_dir = '/content/drive/MyDrive/dataset/test/gt/'\n",
        "test_output_dir = '/content/drive/MyDrive/Qian/L_M/output/'\n",
        "\n",
        "weights_path = \"/content/drive/MyDrive/Qian/L_M/L_M.pt\"\n",
        "model = Generator().cuda()\n",
        "model.load_state_dict(torch.load(weights_path))\n",
        "run(mode='test', input_dir=test_input_dir,\n",
        "                    output_dir=test_output_dir,\n",
        "                    gt_dir=test_gt_dir,\n",
        "                    output_flag = False)"
      ]
    },
    {
      "cell_type": "markdown",
      "metadata": {
        "id": "njMmsEISux72"
      },
      "source": [
        "## L_M_1"
      ]
    },
    {
      "cell_type": "code",
      "execution_count": null,
      "metadata": {
        "colab": {
          "base_uri": "https://localhost:8080/"
        },
        "id": "eRV9A7pXuxpZ",
        "outputId": "71897d26-2bd0-4628-a6ca-61c7814750c8"
      },
      "outputs": [
        {
          "name": "stdout",
          "output_type": "stream",
          "text": [
            "In testing dataset, PSNR is 13.3972 and SSIM is 0.6314\n"
          ]
        }
      ],
      "source": [
        "test_input_dir = '/content/drive/MyDrive/dataset/test/data/'\n",
        "test_gt_dir = '/content/drive/MyDrive/dataset/test/gt/'\n",
        "test_output_dir = '/content/drive/MyDrive/Qian/L_M/output/'\n",
        "\n",
        "weights_path = \"/content/drive/MyDrive/Qian/L_M_1/weights/66.pt\"\n",
        "model = Generator().cuda()\n",
        "model.load_state_dict(torch.load(weights_path))\n",
        "run(mode='test', input_dir=test_input_dir,\n",
        "                    output_dir=test_output_dir,\n",
        "                    gt_dir=test_gt_dir,\n",
        "                    output_flag = True)"
      ]
    },
    {
      "cell_type": "code",
      "execution_count": null,
      "metadata": {
        "colab": {
          "base_uri": "https://localhost:8080/"
        },
        "id": "qrPFFzBEqYPk",
        "outputId": "0dab8399-0626-4fe0-a1f5-8289a8498134"
      },
      "outputs": [
        {
          "name": "stdout",
          "output_type": "stream",
          "text": [
            "In testing dataset, PSNR is 13.9677 and SSIM is 0.6372\n"
          ]
        }
      ],
      "source": [
        "test_input_dir = '/content/drive/MyDrive/dataset/test/data/'\n",
        "test_gt_dir = '/content/drive/MyDrive/dataset/test/gt/'\n",
        "test_output_dir = '/content/drive/MyDrive/Qian/L_M/output/'\n",
        "\n",
        "weights_path = \"/content/drive/MyDrive/Qian/L_M_1/weights/30.pt\"\n",
        "model = Generator().cuda()\n",
        "model.load_state_dict(torch.load(weights_path))\n",
        "run(mode='test', input_dir=test_input_dir,\n",
        "                    output_dir=test_output_dir,\n",
        "                    gt_dir=test_gt_dir,\n",
        "                    output_flag = False)"
      ]
    },
    {
      "cell_type": "markdown",
      "metadata": {
        "id": "HBylt8L0ttaT"
      },
      "source": [
        "# Model B trained on big droplets (Multiple loss)"
      ]
    },
    {
      "cell_type": "code",
      "execution_count": null,
      "metadata": {
        "id": "IB1gei9sBJK8"
      },
      "outputs": [],
      "source": [
        "test_input_dir = '/content/drive/MyDrive/dataset/combined/test/data/'\n",
        "test_gt_dir = '/content/drive/MyDrive/dataset/combined/test/gt/'\n",
        "test_output_dir = '/content/drive/MyDrive/dataset/combined/test/output_v9/'\n",
        "\n",
        "weights_path = \"/content/drive/MyDrive/Qian/weights/weights_v9.pt\"\n",
        "model = Generator().cuda()\n",
        "model.load_state_dict(torch.load(weights_path))\n",
        "run(mode='test', input_dir=test_input_dir,\n",
        "                    output_dir=test_output_dir,\n",
        "                    gt_dir=test_gt_dir,\n",
        "                    output_flag = False)"
      ]
    },
    {
      "cell_type": "code",
      "execution_count": null,
      "metadata": {
        "colab": {
          "base_uri": "https://localhost:8080/"
        },
        "id": "eVAQTz-sNXy8",
        "outputId": "11299e8e-ddc0-433e-f604-f24aa79db4c9"
      },
      "outputs": [
        {
          "name": "stdout",
          "output_type": "stream",
          "text": [
            "In testing dataset, PSNR is 16.1588 and SSIM is 0.6816\n"
          ]
        }
      ],
      "source": [
        "test_input_dir = '/content/drive/MyDrive/dataset/test/data/'\n",
        "test_gt_dir = '/content/drive/MyDrive/dataset/test/gt/'\n",
        "test_output_dir = '/content/drive/MyDrive/dataset/test/output_model_A/'\n",
        "weights_path = \"/content/drive/MyDrive/Qian/weights/weights_v9.pt\"\n",
        "model = Generator().cuda()\n",
        "model.load_state_dict(torch.load(weights_path))\n",
        "run(mode='test', input_dir=test_input_dir,\n",
        "                    output_dir=test_output_dir,\n",
        "                    gt_dir=test_gt_dir,\n",
        "                    output_flag = True)"
      ]
    },
    {
      "cell_type": "markdown",
      "metadata": {
        "id": "thXWYuLiGkba"
      },
      "source": [
        "# model A (trained with single loss function)"
      ]
    },
    {
      "cell_type": "code",
      "execution_count": null,
      "metadata": {
        "colab": {
          "base_uri": "https://localhost:8080/"
        },
        "id": "VwEzO1_GGjW1",
        "outputId": "3ccf61e1-a8df-4c92-a8ab-4fa2ac14bc27"
      },
      "outputs": [
        {
          "name": "stdout",
          "output_type": "stream",
          "text": [
            "In testing dataset, PSNR is 15.2320 and SSIM is 0.6675\n"
          ]
        }
      ],
      "source": [
        "test_input_dir = '/content/drive/MyDrive/dataset/combined/test/data/'\n",
        "test_gt_dir = '/content/drive/MyDrive/dataset/combined/test/gt/'\n",
        "test_output_dir = '/content/drive/MyDrive/dataset/combined/test/output_trained/'\n",
        "\n",
        "weights_path = \"/content/drive/MyDrive/Qian/weights/finetuned_model_0815.pt\"\n",
        "model = Generator().cuda()\n",
        "model.load_state_dict(torch.load(weights_path))\n",
        "run(mode='test', input_dir=test_input_dir,\n",
        "                    output_dir=test_output_dir,\n",
        "                    gt_dir=test_gt_dir,\n",
        "                    output_flag = False)"
      ]
    },
    {
      "cell_type": "code",
      "execution_count": null,
      "metadata": {
        "colab": {
          "base_uri": "https://localhost:8080/"
        },
        "id": "u1pfFAGxM1fx",
        "outputId": "5932f7f3-8689-41ad-e583-ccea6de2cf36"
      },
      "outputs": [
        {
          "name": "stdout",
          "output_type": "stream",
          "text": [
            "In testing dataset, PSNR is 13.6848 and SSIM is 0.6375\n"
          ]
        }
      ],
      "source": [
        "test_input_dir = '/content/drive/MyDrive/dataset/test/data/'\n",
        "test_gt_dir = '/content/drive/MyDrive/dataset/test/gt/'\n",
        "test_output_dir = '/content/drive/MyDrive/dataset/test/output_model_A/'\n",
        "weights_path = \"/content/drive/MyDrive/Qian/weights/finetuned_model_0815.pt\"\n",
        "model = Generator().cuda()\n",
        "model.load_state_dict(torch.load(weights_path))\n",
        "run(mode='test', input_dir=test_input_dir,\n",
        "                    output_dir=test_output_dir,\n",
        "                    gt_dir=test_gt_dir,\n",
        "                    output_flag = True)"
      ]
    },
    {
      "cell_type": "markdown",
      "metadata": {
        "id": "ekqElTO6KUgg"
      },
      "source": [
        "# Model 0 (Qian's model)"
      ]
    },
    {
      "cell_type": "code",
      "execution_count": null,
      "metadata": {
        "colab": {
          "base_uri": "https://localhost:8080/"
        },
        "id": "z37OQQywKXKN",
        "outputId": "ca231fb8-8a82-4e7f-9a8c-aa1597af28c2"
      },
      "outputs": [
        {
          "name": "stdout",
          "output_type": "stream",
          "text": [
            "In testing dataset, PSNR is 16.2754 and SSIM is 0.6630\n"
          ]
        }
      ],
      "source": [
        "test_input_dir = '/content/drive/MyDrive/dataset/combined/test/data/'\n",
        "test_gt_dir = '/content/drive/MyDrive/dataset/combined/test/gt/'\n",
        "test_output_dir = '/content/drive/MyDrive/dataset/combined/test/output_origin/'\n",
        "\n",
        "weights_path = '/content/drive/MyDrive/DeRaindrop-master/weights/gen.pkl'\n",
        "model = Generator().cuda()\n",
        "model.load_state_dict(torch.load(weights_path))\n",
        "run(mode='test', input_dir=test_input_dir,\n",
        "                    output_dir=test_output_dir,\n",
        "                    gt_dir=test_gt_dir,\n",
        "                    output_flag = False)"
      ]
    },
    {
      "cell_type": "code",
      "execution_count": null,
      "metadata": {
        "colab": {
          "base_uri": "https://localhost:8080/"
        },
        "id": "ltoED3SQNSgq",
        "outputId": "7d453159-12fd-4810-9303-da76cde3d2a6"
      },
      "outputs": [
        {
          "name": "stdout",
          "output_type": "stream",
          "text": [
            "In testing dataset, PSNR is 14.6256 and SSIM is 0.6266\n"
          ]
        }
      ],
      "source": [
        "test_input_dir = '/content/drive/MyDrive/dataset/test/data/'\n",
        "test_gt_dir = '/content/drive/MyDrive/dataset/test/gt/'\n",
        "test_output_dir = '/content/drive/MyDrive/dataset/test/output_model_A/'\n",
        "weights_path = '/content/drive/MyDrive/DeRaindrop-master/weights/gen.pkl'\n",
        "model = Generator().cuda()\n",
        "model.load_state_dict(torch.load(weights_path))\n",
        "run(mode='test', input_dir=test_input_dir,\n",
        "                    output_dir=test_output_dir,\n",
        "                    gt_dir=test_gt_dir,\n",
        "                    output_flag = True)"
      ]
    },
    {
      "cell_type": "markdown",
      "metadata": {
        "id": "6KcQyi0_rp6B"
      },
      "source": [
        "# To compare two datasets\n",
        "to see qualitatively how the images are blured in both datasets"
      ]
    },
    {
      "cell_type": "code",
      "execution_count": null,
      "metadata": {
        "colab": {
          "base_uri": "https://localhost:8080/"
        },
        "id": "OAYn3ow_rzCH",
        "outputId": "01aa9c58-d48b-4374-c06d-515b4de65a32"
      },
      "outputs": [
        {
          "name": "stdout",
          "output_type": "stream",
          "text": [
            "Small\n",
            "In testing dataset, PSNR is 21.4183 and SSIM is 0.7616\n",
            "Large\n",
            "In testing dataset, PSNR is 12.6757 and SSIM is 0.5450\n"
          ]
        }
      ],
      "source": [
        "# small raindrop (Fine)\n",
        "test_input_dir = '/content/drive/MyDrive/dataset/Qian/test_b/data/'\n",
        "test_gt_dir = '/content/drive/MyDrive/dataset/Qian/test_b/gt/'\n",
        "print(\"Small\")\n",
        "run(mode='compare_without_predict', input_dir=test_input_dir,gt_dir=test_gt_dir)\n",
        "\n",
        "# large raindrop\n",
        "test_input_dir = '/content/drive/MyDrive/dataset/test/data/'\n",
        "test_gt_dir = '/content/drive/MyDrive/dataset/test/gt/'\n",
        "print(\"Large\")\n",
        "run(mode='compare_without_predict', input_dir=test_input_dir,gt_dir=test_gt_dir)"
      ]
    },
    {
      "cell_type": "markdown",
      "metadata": {
        "id": "m3QKtz-zhtlC"
      },
      "source": [
        "# Demo\n"
      ]
    },
    {
      "cell_type": "code",
      "execution_count": null,
      "metadata": {
        "colab": {
          "background_save": true
        },
        "id": "UTI7jQ2FhsRm",
        "outputId": "bbb26416-993d-4e02-9565-00b5a302ec6c"
      },
      "outputs": [
        {
          "name": "stdout",
          "output_type": "stream",
          "text": [
            "Processing image: 451_rain.png\n",
            "Processing image: 962_rain.png\n"
          ]
        }
      ],
      "source": [
        "test_input_dir = '/content/drive/MyDrive/DeRaindrop-master/demo/input/'\n",
        "test_output_dir = '/content/drive/MyDrive/DeRaindrop-master/demo/output/'\n",
        "weights_path = \"/content/drive/MyDrive/Qian/L_P/L_P.pt\"\n",
        "model = Generator().cuda()\n",
        "model.load_state_dict(torch.load(weights_path))\n",
        "run(mode='demo', input_dir=test_input_dir,\n",
        "                    output_dir=test_output_dir,\n",
        "                    output_flag = False)"
      ]
    }
  ],
  "metadata": {
    "accelerator": "GPU",
    "colab": {
      "collapsed_sections": [
        "85AFcWJ2Fn4d",
        "lZrPeflUFfeI",
        "njMmsEISux72",
        "HBylt8L0ttaT",
        "thXWYuLiGkba",
        "ekqElTO6KUgg",
        "6KcQyi0_rp6B"
      ],
      "provenance": []
    },
    "kernelspec": {
      "display_name": "Python 3",
      "name": "python3"
    },
    "language_info": {
      "name": "python"
    }
  },
  "nbformat": 4,
  "nbformat_minor": 0
}